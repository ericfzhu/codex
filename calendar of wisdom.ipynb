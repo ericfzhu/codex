{
 "cells": [
  {
   "cell_type": "code",
   "execution_count": 39,
   "metadata": {},
   "outputs": [],
   "source": [
    "import ebooklib\n",
    "from ebooklib import epub\n",
    "from bs4 import BeautifulSoup\n",
    "import csv\n",
    "\n",
    "# Path to the EPUB file and the output CSV file\n",
    "epub_file_path = 'calendar of wisdom.epub'\n",
    "output_csv_file = 'quotes.csv'\n",
    "\n",
    "\n",
    "# Read EPUB content\n",
    "book = epub.read_epub(epub_file_path)\n",
    "content = []\n",
    "for item in book.get_items():\n",
    "    if item.get_type() == ebooklib.ITEM_DOCUMENT:\n",
    "        content.append(item.get_body_content())\n",
    "\n",
    "# Parse quotes and authors\n",
    "quotes_data = []\n",
    "for html_content in content:\n",
    "    soup = BeautifulSoup(html_content, 'html.parser')\n",
    "    for quote_tag in soup.find_all('p', class_='calibre15'):\n",
    "        # Replace <br> tags with newlines\n",
    "        for br in quote_tag.find_all('br'):\n",
    "            br.replace_with('\\n')\n",
    "\n",
    "        quote = quote_tag.get_text(strip=True)\n",
    "\n",
    "        # Find the author in the next sibling with class 'calibre16'\n",
    "        author_tag = quote_tag.find_next_sibling('p', class_='calibre16')\n",
    "        author = author_tag.get_text(strip=True) if author_tag else \"Leo Tolstoy\"\n",
    "\n",
    "        quotes_data.append((quote, author))\n",
    "\n",
    "\n",
    "for html_content in content:\n",
    "    soup = BeautifulSoup(html_content, 'html.parser')\n",
    "    for quote_tag in soup.find_all('blockquote'):\n",
    "        quote = quote_tag.get_text(strip=True)\n",
    "\n",
    "        # Find the author\n",
    "        author_tag = quote_tag.find_next_sibling('p')\n",
    "        author = author_tag.get_text(strip=True) if author_tag and author_tag.get_text(strip=True).startswith(\"—\") else \"Leo Tolstoy\"\n",
    "\n",
    "        quotes_data.append((quote, author))\n",
    "\n",
    "# Save to CSV\n",
    "with open(output_csv_file, 'w', newline='', encoding='utf-8') as file:\n",
    "    writer = csv.writer(file)\n",
    "    writer.writerow(['Quote', 'Author'])  # Writing header\n",
    "    for quote, author in quotes_data:\n",
    "        writer.writerow([quote, author])\n"
   ]
  },
  {
   "cell_type": "code",
   "execution_count": 36,
   "metadata": {},
   "outputs": [],
   "source": [
    "import ebooklib\n",
    "from ebooklib import epub\n",
    "from bs4 import BeautifulSoup\n",
    "\n",
    "def read_epub(file_path):\n",
    "    book = epub.read_epub(file_path)\n",
    "    content = []\n",
    "    for item in book.get_items():\n",
    "        if item.get_type() == ebooklib.ITEM_DOCUMENT:\n",
    "            content.append(item.get_body_content())\n",
    "    return content\n",
    "\n",
    "if __name__ == \"__main__\":\n",
    "    epub_file_path = 'calendar of wisdom.epub'\n",
    "\n",
    "    content = read_epub(epub_file_path)\n",
    "    # Print the first 1000 characters of the first document's content to inspect the structure\n",
    "    with open('content_sample.txt', 'w', encoding='utf-8') as file:\n",
    "        file.write(content[6][:10000].decode('utf-8'))\n"
   ]
  },
  {
   "cell_type": "code",
   "execution_count": 43,
   "metadata": {},
   "outputs": [],
   "source": [
    "\n",
    "import pandas as pd\n",
    "\n",
    "# Read the CSV files\n",
    "goodreads_quotes = pd.read_csv('goodreads_quotes.csv')\n",
    "calendar_quotes = pd.read_csv('calendar_quotes.csv')\n",
    "\n",
    "# Combine the dataframes\n",
    "quotes = pd.concat([goodreads_quotes, calendar_quotes])\n",
    "\n",
    "# Remove any rows where 'Quote' is empty or null\n",
    "quotes = quotes[quotes['Quote'].notna()]\n",
    "\n",
    "quotes['Quote'] = quotes['Quote'].apply(lambda x: x[1:-1] if (x.startswith('“') and x.endswith('”')) else x)\n",
    "quotes['Quote'] = quotes['Quote'].apply(lambda x: x[1:-1] if (x.startswith('\"') and x.endswith('\"')) else x)\n",
    "quotes = quotes[quotes['Quote'].apply(lambda x: any(c.isalpha() for c in x if c.isascii()))]\n",
    "quotes.to_csv('quotes.csv', index=False)\n"
   ]
  },
  {
   "cell_type": "code",
   "execution_count": 44,
   "metadata": {},
   "outputs": [
    {
     "data": {
      "text/plain": [
       "True"
      ]
     },
     "execution_count": 44,
     "metadata": {},
     "output_type": "execute_result"
    }
   ],
   "source": [
    "x = '\"I\\'m selfish, impatient and a little insecure. I make mistakes, I am out of control and at times hard to handle. But if you can\\'t handle me at my worst, then you sure as hell don\\'t deserve me at my best.\"'\n",
    "\n",
    "x.startswith('\"') and x.endswith('\"')"
   ]
  }
 ],
 "metadata": {
  "kernelspec": {
   "display_name": "datascraper-14KvqXQX",
   "language": "python",
   "name": "python3"
  },
  "language_info": {
   "codemirror_mode": {
    "name": "ipython",
    "version": 3
   },
   "file_extension": ".py",
   "mimetype": "text/x-python",
   "name": "python",
   "nbconvert_exporter": "python",
   "pygments_lexer": "ipython3",
   "version": "3.11.5"
  }
 },
 "nbformat": 4,
 "nbformat_minor": 2
}
