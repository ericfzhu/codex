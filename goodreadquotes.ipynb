{
 "cells": [
  {
   "cell_type": "code",
   "execution_count": 22,
   "metadata": {},
   "outputs": [],
   "source": [
    "import requests\n",
    "from bs4 import BeautifulSoup\n",
    "import csv\n",
    "\n",
    "def scrape_quotes(page):\n",
    "    url = f\"https://www.goodreads.com/quotes?page={page}\"\n",
    "    response = requests.get(url)\n",
    "    soup = BeautifulSoup(response.content, 'html.parser')\n",
    "\n",
    "    quotes_data = []\n",
    "    quotes = soup.find_all('div', class_='quoteDetails')\n",
    "\n",
    "    for quote in quotes:\n",
    "        quote_text_div = quote.find('div', class_='quoteText')\n",
    "\n",
    "        # Replacing <br> tags within the quote with \\n\n",
    "        for br in quote_text_div.find_all(\"br\"):\n",
    "            br.replace_with(\"\\n\")\n",
    "\n",
    "        # Extracting the quote text up to the \"―\"\n",
    "        text = quote_text_div.get_text().split(\"―\")[0].strip()\n",
    "\n",
    "        author = quote.find('span', class_='authorOrTitle').text.strip().replace(',', '')\n",
    "\n",
    "        # Extracting book title if present\n",
    "        book_link = quote.find('a', class_='authorOrTitle')\n",
    "        book_title = book_link.text.strip() if book_link else ''\n",
    "\n",
    "        quotes_data.append((text, author, book_title))\n",
    "\n",
    "    return quotes_data\n",
    "\n",
    "\n",
    "all_quotes = []\n",
    "for page in range(1, 101):\n",
    "    quotes = scrape_quotes(page)\n",
    "    all_quotes.extend(quotes)\n",
    "\n",
    "with open('goodreads_quotes.csv', 'w', newline='', encoding='utf-8') as file:\n",
    "    writer = csv.writer(file)\n",
    "    writer.writerow(['Quote', 'Author', 'Book Title'])\n",
    "    writer.writerows(all_quotes)\n"
   ]
  },
  {
   "cell_type": "code",
   "execution_count": 13,
   "metadata": {},
   "outputs": [
    {
     "name": "stdout",
     "output_type": "stream",
     "text": [
      "                                                  Quote  \\\n",
      "0        “Be yourself; everyone else is already taken.”   \n",
      "1     “I'm selfish, impatient and a little insecure....   \n",
      "2                      “So many books, so little time.”   \n",
      "3     “Two things are infinite: the universe and hum...   \n",
      "4     “A room without books is like a body without a...   \n",
      "...                                                 ...   \n",
      "2995  “A man should hear a little music, read a litt...   \n",
      "2996             “We are all born mad. Some remain so.”   \n",
      "2997    “The past beats inside me like a second heart.”   \n",
      "2998  “What do you fear, lady?\" [Aragorn] asked. \"A ...   \n",
      "2999  “If the person you are talking to doesn't appe...   \n",
      "\n",
      "                          Author              Book Title  \n",
      "0                    Oscar Wilde                     NaN  \n",
      "1                 Marilyn Monroe                     NaN  \n",
      "2                    Frank Zappa                     NaN  \n",
      "3                Albert Einstein                     NaN  \n",
      "4          Marcus Tullius Cicero                     NaN  \n",
      "...                          ...                     ...  \n",
      "2995  Johann Wolfgang von Goethe                     NaN  \n",
      "2996              Samuel Beckett                     NaN  \n",
      "2997               John Banville                 The Sea  \n",
      "2998              J.R.R. Tolkien  The Return of the King  \n",
      "2999                  A.A. Milne         Winnie-the-Pooh  \n",
      "\n",
      "[2914 rows x 3 columns]\n"
     ]
    }
   ],
   "source": [
    "import pandas as pd\n",
    "from langdetect import detect\n",
    "\n",
    "# Read the csv file\n",
    "df = pd.read_csv('goodreads_quotes.csv')\n",
    "\n",
    "# Define a function for language detection with an additional check for text length\n",
    "def is_english(text):\n",
    "    try:\n",
    "        return detect(text) == 'en' if len(text) > 30 else False\n",
    "    except:\n",
    "        return False\n",
    "\n",
    "# Remove all quotes that aren't in English or are too short to analyze\n",
    "df = df[df['Quote'].apply(lambda x: is_english(x) if pd.notnull(x) else False)]\n",
    "\n",
    "# Display the dataframe\n",
    "print(df)\n"
   ]
  },
  {
   "cell_type": "code",
   "execution_count": 14,
   "metadata": {},
   "outputs": [],
   "source": [
    "df.to_csv('filtered_goodreads_quotes.csv', index=False)\n"
   ]
  }
 ],
 "metadata": {
  "kernelspec": {
   "display_name": "datascraper-14KvqXQX",
   "language": "python",
   "name": "python3"
  },
  "language_info": {
   "codemirror_mode": {
    "name": "ipython",
    "version": 3
   },
   "file_extension": ".py",
   "mimetype": "text/x-python",
   "name": "python",
   "nbconvert_exporter": "python",
   "pygments_lexer": "ipython3",
   "version": "3.11.5"
  }
 },
 "nbformat": 4,
 "nbformat_minor": 2
}
